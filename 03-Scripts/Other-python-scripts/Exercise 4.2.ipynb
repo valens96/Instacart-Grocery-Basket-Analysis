{
 "cells": [
  {
   "cell_type": "code",
   "execution_count": 2,
   "id": "74ab3610",
   "metadata": {},
   "outputs": [],
   "source": [
    "# I mport libraries\n",
    "import pandas as pd\n",
    "import numpy as np\n",
    "import os"
   ]
  },
  {
   "cell_type": "markdown",
   "id": "990c54c7",
   "metadata": {},
   "source": [
    "# Working with Python data ty"
   ]
  },
  {
   "cell_type": "code",
   "execution_count": 3,
   "id": "10e45402",
   "metadata": {},
   "outputs": [],
   "source": [
    "x = 90"
   ]
  },
  {
   "cell_type": "code",
   "execution_count": 4,
   "id": "39ca5035",
   "metadata": {},
   "outputs": [],
   "source": [
    "y = 10"
   ]
  },
  {
   "cell_type": "code",
   "execution_count": 5,
   "id": "7b078d7c",
   "metadata": {},
   "outputs": [
    {
     "data": {
      "text/plain": [
       "100"
      ]
     },
     "execution_count": 5,
     "metadata": {},
     "output_type": "execute_result"
    }
   ],
   "source": [
    "x + y"
   ]
  },
  {
   "cell_type": "code",
   "execution_count": 6,
   "id": "ed5e073b",
   "metadata": {},
   "outputs": [],
   "source": [
    "x = 110"
   ]
  },
  {
   "cell_type": "code",
   "execution_count": 7,
   "id": "8a4a4da1",
   "metadata": {},
   "outputs": [
    {
     "data": {
      "text/plain": [
       "100"
      ]
     },
     "execution_count": 7,
     "metadata": {},
     "output_type": "execute_result"
    }
   ],
   "source": [
    "x-y"
   ]
  },
  {
   "cell_type": "code",
   "execution_count": 9,
   "id": "0d74860a",
   "metadata": {},
   "outputs": [
    {
     "data": {
      "text/plain": [
       "100"
      ]
     },
     "execution_count": 9,
     "metadata": {},
     "output_type": "execute_result"
    }
   ],
   "source": [
    "y * y"
   ]
  },
  {
   "cell_type": "code",
   "execution_count": 10,
   "id": "8e15e5dc",
   "metadata": {},
   "outputs": [],
   "source": [
    "a = 5.72"
   ]
  },
  {
   "cell_type": "code",
   "execution_count": 11,
   "id": "23375a66",
   "metadata": {},
   "outputs": [],
   "source": [
    "b = 3"
   ]
  },
  {
   "cell_type": "code",
   "execution_count": 13,
   "id": "ec96bd13",
   "metadata": {},
   "outputs": [
    {
     "data": {
      "text/plain": [
       "1.9066666666666665"
      ]
     },
     "execution_count": 13,
     "metadata": {},
     "output_type": "execute_result"
    }
   ],
   "source": [
    "a / b"
   ]
  },
  {
   "cell_type": "code",
   "execution_count": 18,
   "id": "f0b11cb1",
   "metadata": {},
   "outputs": [],
   "source": [
    "c = 'hello '"
   ]
  },
  {
   "cell_type": "code",
   "execution_count": 15,
   "id": "138599f5",
   "metadata": {},
   "outputs": [],
   "source": [
    "d = 'world'"
   ]
  },
  {
   "cell_type": "code",
   "execution_count": 19,
   "id": "d7e3b3ba",
   "metadata": {},
   "outputs": [
    {
     "data": {
      "text/plain": [
       "'hello world'"
      ]
     },
     "execution_count": 19,
     "metadata": {},
     "output_type": "execute_result"
    }
   ],
   "source": [
    "c + d"
   ]
  },
  {
   "cell_type": "code",
   "execution_count": 22,
   "id": "28c96aa1",
   "metadata": {},
   "outputs": [],
   "source": [
    "e = 'I own small car'"
   ]
  },
  {
   "cell_type": "code",
   "execution_count": 21,
   "id": "1bc5647b",
   "metadata": {},
   "outputs": [],
   "source": [
    "f = 'the colour of my car is red'"
   ]
  },
  {
   "cell_type": "code",
   "execution_count": 25,
   "id": "6d42001f",
   "metadata": {},
   "outputs": [
    {
     "data": {
      "text/plain": [
       "'I own small car, and the colour of my car is red'"
      ]
     },
     "execution_count": 25,
     "metadata": {},
     "output_type": "execute_result"
    }
   ],
   "source": [
    "e + \", and \" + f"
   ]
  }
 ],
 "metadata": {
  "kernelspec": {
   "display_name": "Python 3",
   "language": "python",
   "name": "python3"
  },
  "language_info": {
   "codemirror_mode": {
    "name": "ipython",
    "version": 3
   },
   "file_extension": ".py",
   "mimetype": "text/x-python",
   "name": "python",
   "nbconvert_exporter": "python",
   "pygments_lexer": "ipython3",
   "version": "3.8.8"
  }
 },
 "nbformat": 4,
 "nbformat_minor": 5
}
